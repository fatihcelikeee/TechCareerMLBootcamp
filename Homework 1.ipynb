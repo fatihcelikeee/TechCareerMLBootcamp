{
 "cells": [
  {
   "cell_type": "markdown",
   "id": "d6e94d02",
   "metadata": {},
   "source": [
    "# TechCareer Machine Learning Bootcamp Homework 1 "
   ]
  },
  {
   "cell_type": "markdown",
   "id": "f763a5c5",
   "metadata": {},
   "source": [
    "## Introduction "
   ]
  },
  {
   "cell_type": "markdown",
   "id": "5aed9138",
   "metadata": {},
   "source": [
    "This project aim to writing sorting alghoritms without using libaries and compared to sorting alghoritms and observing datas size effect to exectution time of alghoritms"
   ]
  },
  {
   "cell_type": "markdown",
   "id": "1ef61c9f",
   "metadata": {},
   "source": [
    "## Importing Libaries"
   ]
  },
  {
   "cell_type": "code",
   "execution_count": 1,
   "id": "ae0bd0f7",
   "metadata": {},
   "outputs": [],
   "source": [
    "from timeit import default_timer as timer   #For calculating process time\n",
    "import random as rd                         #For generating random data                                            \n",
    "import seaborn as sns                       #For generating graph  \n",
    "import matplotlib.pyplot as plt             #For generating graph     \n",
    "import pandas as pd                         #For generating graph data from process time lists  "
   ]
  },
  {
   "cell_type": "markdown",
   "id": "e593beeb",
   "metadata": {},
   "source": [
    "## Sorting Algorithms Class "
   ]
  },
  {
   "cell_type": "code",
   "execution_count": 2,
   "id": "44625379",
   "metadata": {},
   "outputs": [],
   "source": [
    "class SortingAlgorithms:\n",
    "    @staticmethod\n",
    "    def bubble_sort(arr):\n",
    "        n = len(arr)\n",
    "        for i in range(n):\n",
    "            for j in range(0, n-i-1):\n",
    "                if arr[j] > arr[j+1]:\n",
    "                    arr[j], arr[j+1] = arr[j+1], arr[j]\n",
    "        return arr\n",
    "\n",
    "    @staticmethod\n",
    "    def selection_sort(arr):\n",
    "        n = len(arr)\n",
    "        for i in range(n):\n",
    "            min_index = i\n",
    "            for j in range(i+1, n):\n",
    "                if arr[min_index] > arr[j]:\n",
    "                    min_index = j\n",
    "            arr[i], arr[min_index] = arr[min_index], arr[i]\n",
    "        return arr\n",
    "\n",
    "    @staticmethod\n",
    "    def insertion_sort(arr):\n",
    "        n = len(arr)\n",
    "        for i in range(1, n):\n",
    "            key = arr[i]\n",
    "            j = i - 1\n",
    "            while j >= 0 and key < arr[j]:\n",
    "                arr[j+1] = arr[j]\n",
    "                j -= 1\n",
    "            arr[j+1] = key\n",
    "        return arr\n",
    "\n",
    "    @staticmethod\n",
    "    def quick_sort(arr, start=0, stop=-1):#that part for run function without need data lenght as input\n",
    "        if stop == -1:\n",
    "            stop = len(arr) - 1\n",
    "        if start < stop:\n",
    "            pivot = SortingAlgorithms.part_sort(arr, start, stop)# Finding pivot location\n",
    "            SortingAlgorithms.quick_sort(arr, start, pivot-1)#Selecting numbers lower than pivot and pivot location recursively \n",
    "            SortingAlgorithms.quick_sort(arr, pivot+1, stop)#Selecting numbers higher than pivot and pivot location recursively \n",
    "\n",
    "    @staticmethod\n",
    "    def part_sort(arr, start, stop):#That function for divide list which part contain numbers lower than pivot has to parts and return pivot's right position\n",
    "        pivot = arr[stop]\n",
    "        i = start - 1\n",
    "        for j in range(start, stop):\n",
    "            if arr[j] <= pivot:\n",
    "                i += 1\n",
    "                arr[i], arr[j] = arr[j], arr[i]\n",
    "        arr[i+1], arr[stop] = arr[stop], arr[i+1]\n",
    "        return i+1\n",
    "\n",
    "    @staticmethod\n",
    "    def merge_sort(arr):\n",
    "        if len(arr) > 1:\n",
    "            middle = len(arr) // 2\n",
    "            left = arr[:middle]\n",
    "            right = arr[middle:]\n",
    "            SortingAlgorithms.merge_sort(left)#That part for sort left of middle\n",
    "            SortingAlgorithms.merge_sort(right)#That part for sort Right of middle\n",
    "            i = j = k = 0\n",
    "            #Comparing left of middle elements by right of middle\n",
    "            while i < len(left) and j < len(right):\n",
    "                if left[i] <= right[j]:\n",
    "                    arr[k] = left[i]\n",
    "                    i += 1\n",
    "                else:\n",
    "                    arr[k] = right[j]\n",
    "                    j += 1\n",
    "                k += 1\n",
    "            #Checking if Right of middle list finished\n",
    "            while i < len(left):\n",
    "                arr[k] = left[i]\n",
    "                i += 1\n",
    "                k += 1\n",
    "            #Checking if Left of middle list finished\n",
    "            while j < len(right):\n",
    "                arr[k] = right[j]\n",
    "                j += 1\n",
    "                k += 1\n",
    "\n",
    "    @staticmethod\n",
    "    def heap_sort(arr):\n",
    "        N = len(arr)\n",
    "        #Build maxheap\n",
    "        for i in range(N//2 - 1, -1, -1):\n",
    "            SortingAlgorithms.make_node(arr, N, i)\n",
    "        #Delete elements one by one\n",
    "        for i in range(N-1, 0, -1):\n",
    "            arr[i], arr[0] = arr[0], arr[i]\n",
    "            SortingAlgorithms.make_node(arr, i, 0)\n",
    "\n",
    "    @staticmethod\n",
    "    def make_node(arr, N, i):\n",
    "        largest = i\n",
    "        left = 2*i + 1\n",
    "        right = 2*i + 2\n",
    "        #Checking left child of node exist and greather than parent\n",
    "        if left < N and arr[largest] < arr[left]:\n",
    "            largest = left\n",
    "        #Checking Right child of node exist and greather than parent\n",
    "        if right < N and arr[largest] < arr[right]:\n",
    "            largest = right\n",
    "        #Checking any change at largest\n",
    "        if largest != i:\n",
    "            arr[i], arr[largest] = arr[largest], arr[i]\n",
    "\n",
    "    @staticmethod\n",
    "    def counting_sort(arr):\n",
    "        # Find the maximum element in the inputArray\n",
    "        max_element = arr[0]\n",
    "        for i in range(1, len(arr)):\n",
    "            if arr[i] > max_element:\n",
    "                max_element = arr[i]\n",
    "        count_array_length = max_element + 1\n",
    "        # Initialize the countArray with (max+1) zeros\n",
    "        count_array = [0] * count_array_length\n",
    "        #Increase the corresponding count for every element by 1\n",
    "        for el in arr:\n",
    "            count_array[el] += 1\n",
    "        #Adding last element to current element for finding locations\n",
    "        for i in range(1, count_array_length):\n",
    "            count_array[i] += count_array[i - 1]\n",
    "        output_arr = [0] * len(arr)\n",
    "        i = len(arr) - 1\n",
    "        while i >= 0:\n",
    "            current_el = arr[i]\n",
    "            count_array[current_el] -= 1\n",
    "            new_position = count_array[current_el]\n",
    "            output_arr[new_position] = current_el\n",
    "            i -= 1\n",
    "        return output_arr\n",
    "\n",
    "    @staticmethod\n",
    "    def radix_sort(arr):\n",
    "        max_element = arr[0]\n",
    "        for i in range(1, len(arr)):\n",
    "            if arr[i] > max_element:\n",
    "                max_element = arr[i]\n",
    "        exp = 1\n",
    "        while max_element / exp >= 1:\n",
    "            SortingAlgorithms.counting_sort_exp(arr, exp)\n",
    "            exp *= 10\n",
    "\n",
    "    @staticmethod\n",
    "    def counting_sort_exp(arr, exp):\n",
    "        N = len(arr)\n",
    "        output = [0] * N\n",
    "        count = [0] * 10\n",
    "        # Store count of occurrences in count[]\n",
    "        for i in range(0, N):\n",
    "            index = arr[i] // exp\n",
    "            count[index % 10] += 1\n",
    "        for i in range(1, 10):\n",
    "            count[i] += count[i - 1]\n",
    "        i = N - 1\n",
    "        while i >= 0:\n",
    "            index = arr[i] // exp\n",
    "            output[count[index % 10] - 1] = arr[i]\n",
    "            count[index % 10] -= 1\n",
    "            i -= 1\n",
    "        i = 0\n",
    "        for i in range(0, len(arr)):\n",
    "            arr[i] = output[i]\n",
    "\n",
    "    @staticmethod\n",
    "    def topological_sort(graph):\n",
    "        def depth_search(node):\n",
    "            visited[node] = True\n",
    "            for neighbor in graph[node]:\n",
    "                if not visited[neighbor]:#For finding a node which is not connect any other node\n",
    "                    depth_search(neighbor)\n",
    "            result.append(node)\n",
    "\n",
    "        visited = {node: False for node in graph}\n",
    "        result = []\n",
    "\n",
    "        for node in graph:\n",
    "            if not visited[node]:\n",
    "                depth_search(node)\n",
    "\n",
    "        return result[::-1]\n",
    "    \n",
    "    @staticmethod\n",
    "    def print_sorting_times(arr):\n",
    "        sorting_functions = [\n",
    "            SortingAlgorithms.bubble_sort,\n",
    "            SortingAlgorithms.selection_sort,\n",
    "            SortingAlgorithms.insertion_sort,\n",
    "            SortingAlgorithms.quick_sort,\n",
    "            SortingAlgorithms.merge_sort,\n",
    "            SortingAlgorithms.heap_sort,\n",
    "            SortingAlgorithms.counting_sort,\n",
    "            SortingAlgorithms.radix_sort\n",
    "        ]\n",
    "\n",
    "        execution_times = {}\n",
    "        for sort_func in sorting_functions:\n",
    "            arr_copy = arr.copy()\n",
    "            start_time = timer()\n",
    "            sorted_arr = sort_func(arr_copy)\n",
    "            end_time = timer()\n",
    "            execution_time = end_time - start_time\n",
    "            execution_times[sort_func.__name__] = execution_time\n",
    "\n",
    "        sorted_algorithms = sorted(execution_times, key=lambda k: execution_times[k])\n",
    "        \n",
    "        print(\"Execution times for sorting algorithms:\")\n",
    "        for algo in sorted_algorithms:\n",
    "            print(f\"{algo}: {execution_times[algo]:.6f} seconds\")\n",
    "\n",
    "        fastest_algorithms = sorted_algorithms[:3]\n",
    "        slowest_algorithms = sorted_algorithms[-3:]\n",
    "\n",
    "        print(\"\\nRecommendations:\")\n",
    "        print(\"Fastest 3 algorithms for this datasets are:\")\n",
    "        for algo in fastest_algorithms:\n",
    "            print(f\"- {algo}: {execution_times[algo]:.6f} seconds\")\n",
    "\n",
    "        print(\"\\nSlowest 3 algorithms for this datasets are:\")\n",
    "        for algo in slowest_algorithms:\n",
    "            print(f\"- {algo}: {execution_times[algo]:.6f} seconds\")\n",
    "        return execution_times"
   ]
  },
  {
   "cell_type": "markdown",
   "id": "93d0b504",
   "metadata": {},
   "source": [
    "## Creating Test Data"
   ]
  },
  {
   "cell_type": "code",
   "execution_count": 3,
   "id": "0d3f0e1c",
   "metadata": {},
   "outputs": [
    {
     "data": {
      "text/plain": [
       "[94, 74, 67, 53, 18, 59, 86, 20, 84, 31]"
      ]
     },
     "execution_count": 3,
     "metadata": {},
     "output_type": "execute_result"
    }
   ],
   "source": [
    "orginal_data = [rd.randint(0,100) for _ in range(10)]\n",
    "orginal_data"
   ]
  },
  {
   "cell_type": "markdown",
   "id": "0728ccdb",
   "metadata": {},
   "source": [
    "## Testing Alghoritms"
   ]
  },
  {
   "cell_type": "markdown",
   "id": "dc2a714a",
   "metadata": {},
   "source": [
    "###  Bubble Sort"
   ]
  },
  {
   "cell_type": "markdown",
   "id": "f84ef6fb",
   "metadata": {},
   "source": [
    "It is the most basic sorting algorithm that arranges elements by comparing two at a time and making necessary swaps. It is employed in situations involving sequential comparisons and in-place rearrangements."
   ]
  },
  {
   "cell_type": "code",
   "execution_count": 4,
   "id": "42f99973",
   "metadata": {},
   "outputs": [
    {
     "name": "stdout",
     "output_type": "stream",
     "text": [
      "Data before Bubble Sort\n",
      "[94, 74, 67, 53, 18, 59, 86, 20, 84, 31]\n",
      "Data After Bubble Sort\n",
      "[18, 20, 31, 53, 59, 67, 74, 84, 86, 94]\n"
     ]
    }
   ],
   "source": [
    "bubleSortData = orginal_data.copy()\n",
    "print(\"Data before Bubble Sort\")\n",
    "print(bubleSortData)\n",
    "SortingAlgorithms.bubble_sort(bubleSortData)\n",
    "print(\"Data After Bubble Sort\")\n",
    "print(bubleSortData)"
   ]
  },
  {
   "cell_type": "markdown",
   "id": "8ed95996",
   "metadata": {},
   "source": [
    "###  Selection Sort"
   ]
  },
  {
   "cell_type": "markdown",
   "id": "a37893f0",
   "metadata": {},
   "source": [
    "This algorithm operates by selecting either the largest or smallest element within a given dataset and subsequently proceeds to arrange the dataset in a sorted order. It is fundamentally characterized by its capacity to partition the dataset into two distinct segments."
   ]
  },
  {
   "cell_type": "code",
   "execution_count": 5,
   "id": "66b0abe9",
   "metadata": {
    "scrolled": true
   },
   "outputs": [
    {
     "name": "stdout",
     "output_type": "stream",
     "text": [
      "Data before Selection Sort\n",
      "[94, 74, 67, 53, 18, 59, 86, 20, 84, 31]\n",
      "Data After Selection Sort\n",
      "[18, 20, 31, 53, 59, 67, 74, 84, 86, 94]\n"
     ]
    }
   ],
   "source": [
    "selectionSortData = orginal_data.copy()\n",
    "print(\"Data before Selection Sort\")\n",
    "print(selectionSortData)\n",
    "SortingAlgorithms.selection_sort(selectionSortData)\n",
    "print(\"Data After Selection Sort\")\n",
    "print(selectionSortData)"
   ]
  },
  {
   "cell_type": "markdown",
   "id": "e5920cfa",
   "metadata": {},
   "source": [
    "###  Insertion Sort"
   ]
  },
  {
   "cell_type": "markdown",
   "id": "a121f9d2",
   "metadata": {},
   "source": [
    "The algorithm partitions the dataset into contiguous subsequences, categorized as either ordered or unordered segments. Subsequently, it iteratively extracts an element from the unordered segment and inserts it into the ordered segment at its appropriate position. This cyclic process persists until all elements within the dataset have been systematically arranged."
   ]
  },
  {
   "cell_type": "code",
   "execution_count": 6,
   "id": "b6145777",
   "metadata": {
    "scrolled": false
   },
   "outputs": [
    {
     "name": "stdout",
     "output_type": "stream",
     "text": [
      "Data before Insertion Sort\n",
      "[94, 74, 67, 53, 18, 59, 86, 20, 84, 31]\n",
      "Data After Insertion Sort\n",
      "[18, 20, 31, 53, 59, 67, 74, 84, 86, 94]\n"
     ]
    }
   ],
   "source": [
    "insertionSortData = orginal_data.copy()\n",
    "print(\"Data before Insertion Sort\")\n",
    "print(insertionSortData)\n",
    "SortingAlgorithms.insertion_sort(insertionSortData)\n",
    "print(\"Data After Insertion Sort\")\n",
    "print(insertionSortData)"
   ]
  },
  {
   "cell_type": "markdown",
   "id": "7db51aec",
   "metadata": {},
   "source": [
    "###  Quick Sort"
   ]
  },
  {
   "cell_type": "markdown",
   "id": "468a4b19",
   "metadata": {},
   "source": [
    "Using a pivot element, the dataset is divided into two segments: the left segment consists of elements smaller than the pivot, while the right segment contains elements greater than the pivot. Subsequently, this process is iteratively applied to both regions."
   ]
  },
  {
   "cell_type": "code",
   "execution_count": 7,
   "id": "cbfbd0c8",
   "metadata": {
    "scrolled": true
   },
   "outputs": [
    {
     "name": "stdout",
     "output_type": "stream",
     "text": [
      "Data before Quick Sort\n",
      "[94, 74, 67, 53, 18, 59, 86, 20, 84, 31]\n",
      "Data After Quick Sort\n",
      "[18, 20, 31, 53, 59, 67, 74, 84, 86, 94]\n"
     ]
    }
   ],
   "source": [
    "quickSortData = orginal_data.copy()\n",
    "print(\"Data before Quick Sort\")\n",
    "print(quickSortData)\n",
    "SortingAlgorithms.quick_sort(quickSortData)\n",
    "print(\"Data After Quick Sort\")\n",
    "print(quickSortData)"
   ]
  },
  {
   "cell_type": "markdown",
   "id": "a3280ed7",
   "metadata": {},
   "source": [
    "###  Merge Sort"
   ]
  },
  {
   "cell_type": "markdown",
   "id": "6a75a655",
   "metadata": {},
   "source": [
    "The data is divided into two halves, each of which is sorted separately. Subsequently, a merging process is employed. Time complexity analysis is employed in both the division and merging operations."
   ]
  },
  {
   "cell_type": "code",
   "execution_count": 8,
   "id": "78447683",
   "metadata": {
    "scrolled": true
   },
   "outputs": [
    {
     "name": "stdout",
     "output_type": "stream",
     "text": [
      "Data before Merge Sort\n",
      "[94, 74, 67, 53, 18, 59, 86, 20, 84, 31]\n",
      "Data After Merge Sort\n",
      "[18, 20, 31, 53, 59, 67, 74, 84, 86, 94]\n"
     ]
    }
   ],
   "source": [
    "mergeSortData = orginal_data.copy()\n",
    "print(\"Data before Merge Sort\")\n",
    "print(mergeSortData)\n",
    "SortingAlgorithms.merge_sort(mergeSortData)\n",
    "print(\"Data After Merge Sort\")\n",
    "print(mergeSortData)"
   ]
  },
  {
   "cell_type": "markdown",
   "id": "78567d1e",
   "metadata": {},
   "source": [
    "###  Heap Sort"
   ]
  },
  {
   "cell_type": "markdown",
   "id": "395127a7",
   "metadata": {},
   "source": [
    "A heap data structure is established on an array, and the sorting process is carried out using this heap."
   ]
  },
  {
   "cell_type": "code",
   "execution_count": 9,
   "id": "fa3626fc",
   "metadata": {
    "scrolled": true
   },
   "outputs": [
    {
     "name": "stdout",
     "output_type": "stream",
     "text": [
      "Data before Heap Sort\n",
      "[94, 74, 67, 53, 18, 59, 86, 20, 84, 31]\n",
      "Data After Heap Sort\n",
      "[18, 20, 74, 31, 59, 67, 53, 84, 86, 94]\n"
     ]
    }
   ],
   "source": [
    "heapSortData = orginal_data.copy()\n",
    "print(\"Data before Heap Sort\")\n",
    "print(heapSortData)\n",
    "SortingAlgorithms.heap_sort(heapSortData)\n",
    "print(\"Data After Heap Sort\")\n",
    "print(heapSortData)"
   ]
  },
  {
   "cell_type": "markdown",
   "id": "55f34fe4",
   "metadata": {},
   "source": [
    "###  Counting Sort"
   ]
  },
  {
   "cell_type": "markdown",
   "id": "d3ca4a6d",
   "metadata": {},
   "source": [
    "The sorting process takes into account the range of the dataset. It accomplishes sorting by tallying the frequency of occurrence for each individual element."
   ]
  },
  {
   "cell_type": "code",
   "execution_count": 10,
   "id": "a9c1ab74",
   "metadata": {
    "scrolled": true
   },
   "outputs": [
    {
     "name": "stdout",
     "output_type": "stream",
     "text": [
      "Data before Counting Sort\n",
      "[94, 74, 67, 53, 18, 59, 86, 20, 84, 31]\n",
      "Data After Counting Sort\n",
      "[94, 74, 67, 53, 18, 59, 86, 20, 84, 31]\n"
     ]
    }
   ],
   "source": [
    "countingSortData = orginal_data.copy()\n",
    "print(\"Data before Counting Sort\")\n",
    "print(countingSortData)\n",
    "SortingAlgorithms.counting_sort(countingSortData)\n",
    "print(\"Data After Counting Sort\")\n",
    "print(countingSortData)"
   ]
  },
  {
   "cell_type": "markdown",
   "id": "697d0fe5",
   "metadata": {},
   "source": [
    "###  Radix Sort"
   ]
  },
  {
   "cell_type": "markdown",
   "id": "eb731516",
   "metadata": {},
   "source": [
    "Elements are arranged based on their place values. This sorting method is employed for numerical data."
   ]
  },
  {
   "cell_type": "code",
   "execution_count": 11,
   "id": "1687088b",
   "metadata": {
    "scrolled": true
   },
   "outputs": [
    {
     "name": "stdout",
     "output_type": "stream",
     "text": [
      "Data before Radix Sort\n",
      "[94, 74, 67, 53, 18, 59, 86, 20, 84, 31]\n",
      "Data After Radix Sort\n",
      "[18, 20, 31, 53, 59, 67, 74, 84, 86, 94]\n"
     ]
    }
   ],
   "source": [
    "radixSortData = orginal_data.copy()\n",
    "print(\"Data before Radix Sort\")\n",
    "print(radixSortData)\n",
    "SortingAlgorithms.radix_sort(radixSortData)\n",
    "print(\"Data After Radix Sort\")\n",
    "print(radixSortData)"
   ]
  },
  {
   "cell_type": "markdown",
   "id": "c52e858c",
   "metadata": {},
   "source": [
    "###  Topological Sort"
   ]
  },
  {
   "cell_type": "markdown",
   "id": "d529f647",
   "metadata": {},
   "source": [
    "It is employed on directed acyclic graphs. The nodes within the graph are sorted according to their dependency order."
   ]
  },
  {
   "cell_type": "code",
   "execution_count": 12,
   "id": "c4636a92",
   "metadata": {
    "scrolled": true
   },
   "outputs": [
    {
     "name": "stdout",
     "output_type": "stream",
     "text": [
      "Data before Topological Sort\n",
      "{'A': ['B', 'C'], 'B': ['D', 'E'], 'C': ['F'], 'D': [], 'E': ['F'], 'F': []}\n",
      "Data After Topological Sort\n",
      "['A', 'C', 'B', 'E', 'F', 'D']\n"
     ]
    }
   ],
   "source": [
    "topologicalSortData = {\n",
    "        'A': ['B', 'C'],\n",
    "        'B': ['D', 'E'],\n",
    "        'C': ['F'],\n",
    "        'D': [],\n",
    "        'E': ['F'],\n",
    "        'F': [],\n",
    "    }\n",
    "print(\"Data before Topological Sort\")\n",
    "print(topologicalSortData)\n",
    "topologicalSortData = SortingAlgorithms.topological_sort(topologicalSortData)\n",
    "print(\"Data After Topological Sort\")\n",
    "print(topologicalSortData)"
   ]
  },
  {
   "cell_type": "markdown",
   "id": "4fe94d8a",
   "metadata": {},
   "source": [
    "## Time Analysis Of Alghoritms"
   ]
  },
  {
   "cell_type": "markdown",
   "id": "bf0a8852",
   "metadata": {},
   "source": [
    "At this part we compare All alghoritims except Topological sort because this function needs graph but other functions can work with only list of data. We compare Alghoritms speed for 10 data, 100 data, 1000 data and 10000 data"
   ]
  },
  {
   "cell_type": "markdown",
   "id": "f12d195e",
   "metadata": {},
   "source": [
    "### 10 data Time Analysis "
   ]
  },
  {
   "cell_type": "code",
   "execution_count": 13,
   "id": "4b8942c4",
   "metadata": {
    "scrolled": false
   },
   "outputs": [
    {
     "name": "stdout",
     "output_type": "stream",
     "text": [
      "Execution times for sorting algorithms:\n",
      "insertion_sort: 0.000003 seconds\n",
      "selection_sort: 0.000006 seconds\n",
      "heap_sort: 0.000007 seconds\n",
      "bubble_sort: 0.000009 seconds\n",
      "counting_sort: 0.000011 seconds\n",
      "radix_sort: 0.000014 seconds\n",
      "merge_sort: 0.000015 seconds\n",
      "quick_sort: 0.000019 seconds\n",
      "\n",
      "Recommendations:\n",
      "Fastest 3 algorithms for this datasets are:\n",
      "- insertion_sort: 0.000003 seconds\n",
      "- selection_sort: 0.000006 seconds\n",
      "- heap_sort: 0.000007 seconds\n",
      "\n",
      "Slowest 3 algorithms for this datasets are:\n",
      "- radix_sort: 0.000014 seconds\n",
      "- merge_sort: 0.000015 seconds\n",
      "- quick_sort: 0.000019 seconds\n"
     ]
    }
   ],
   "source": [
    "data = [rd.randint(0,100) for _ in range(10)]\n",
    "ExecutionTimes10 = SortingAlgorithms.print_sorting_times(data)"
   ]
  },
  {
   "cell_type": "markdown",
   "id": "cf93225b",
   "metadata": {},
   "source": [
    "### 100 data Time Analysis "
   ]
  },
  {
   "cell_type": "code",
   "execution_count": 14,
   "id": "d5019a5a",
   "metadata": {
    "scrolled": false
   },
   "outputs": [
    {
     "name": "stdout",
     "output_type": "stream",
     "text": [
      "Execution times for sorting algorithms:\n",
      "counting_sort: 0.000026 seconds\n",
      "heap_sort: 0.000046 seconds\n",
      "quick_sort: 0.000085 seconds\n",
      "radix_sort: 0.000098 seconds\n",
      "merge_sort: 0.000169 seconds\n",
      "insertion_sort: 0.000170 seconds\n",
      "selection_sort: 0.000219 seconds\n",
      "bubble_sort: 0.000406 seconds\n",
      "\n",
      "Recommendations:\n",
      "Fastest 3 algorithms for this datasets are:\n",
      "- counting_sort: 0.000026 seconds\n",
      "- heap_sort: 0.000046 seconds\n",
      "- quick_sort: 0.000085 seconds\n",
      "\n",
      "Slowest 3 algorithms for this datasets are:\n",
      "- insertion_sort: 0.000170 seconds\n",
      "- selection_sort: 0.000219 seconds\n",
      "- bubble_sort: 0.000406 seconds\n"
     ]
    }
   ],
   "source": [
    "data = [rd.randint(0,100) for _ in range(100)]\n",
    "ExecutionTimes100 = SortingAlgorithms.print_sorting_times(data)"
   ]
  },
  {
   "cell_type": "markdown",
   "id": "81411995",
   "metadata": {},
   "source": [
    "### 1000 data Time Analysis "
   ]
  },
  {
   "cell_type": "code",
   "execution_count": 15,
   "id": "c6df8e90",
   "metadata": {
    "scrolled": false
   },
   "outputs": [
    {
     "name": "stdout",
     "output_type": "stream",
     "text": [
      "Execution times for sorting algorithms:\n",
      "counting_sort: 0.000220 seconds\n",
      "heap_sort: 0.000441 seconds\n",
      "radix_sort: 0.001099 seconds\n",
      "quick_sort: 0.001636 seconds\n",
      "merge_sort: 0.001975 seconds\n",
      "insertion_sort: 0.021241 seconds\n",
      "selection_sort: 0.025640 seconds\n",
      "bubble_sort: 0.058802 seconds\n",
      "\n",
      "Recommendations:\n",
      "Fastest 3 algorithms for this datasets are:\n",
      "- counting_sort: 0.000220 seconds\n",
      "- heap_sort: 0.000441 seconds\n",
      "- radix_sort: 0.001099 seconds\n",
      "\n",
      "Slowest 3 algorithms for this datasets are:\n",
      "- insertion_sort: 0.021241 seconds\n",
      "- selection_sort: 0.025640 seconds\n",
      "- bubble_sort: 0.058802 seconds\n"
     ]
    }
   ],
   "source": [
    "data = [rd.randint(0,100) for _ in range(1000)]\n",
    "ExecutionTimes1000 = SortingAlgorithms.print_sorting_times(data)"
   ]
  },
  {
   "cell_type": "markdown",
   "id": "190c25ff",
   "metadata": {},
   "source": [
    "### 10000 data Time Analysis "
   ]
  },
  {
   "cell_type": "code",
   "execution_count": 16,
   "id": "3745e396",
   "metadata": {
    "scrolled": false
   },
   "outputs": [
    {
     "name": "stdout",
     "output_type": "stream",
     "text": [
      "Execution times for sorting algorithms:\n",
      "counting_sort: 0.002220 seconds\n",
      "heap_sort: 0.004659 seconds\n",
      "radix_sort: 0.011656 seconds\n",
      "merge_sort: 0.026221 seconds\n",
      "quick_sort: 0.068540 seconds\n",
      "insertion_sort: 2.365215 seconds\n",
      "selection_sort: 2.573308 seconds\n",
      "bubble_sort: 6.567397 seconds\n",
      "\n",
      "Recommendations:\n",
      "Fastest 3 algorithms for this datasets are:\n",
      "- counting_sort: 0.002220 seconds\n",
      "- heap_sort: 0.004659 seconds\n",
      "- radix_sort: 0.011656 seconds\n",
      "\n",
      "Slowest 3 algorithms for this datasets are:\n",
      "- insertion_sort: 2.365215 seconds\n",
      "- selection_sort: 2.573308 seconds\n",
      "- bubble_sort: 6.567397 seconds\n"
     ]
    }
   ],
   "source": [
    "data = [rd.randint(0,100) for _ in range(10000)]\n",
    "ExecutionTimes10000 = SortingAlgorithms.print_sorting_times(data)"
   ]
  },
  {
   "cell_type": "markdown",
   "id": "e11168dc",
   "metadata": {},
   "source": [
    "### Comparing Alghoritm Performances"
   ]
  },
  {
   "cell_type": "markdown",
   "id": "7bf713d4",
   "metadata": {},
   "source": [
    "#### Preapere graph datas "
   ]
  },
  {
   "cell_type": "code",
   "execution_count": 17,
   "id": "20103fac",
   "metadata": {},
   "outputs": [],
   "source": [
    "x_label = [10,100,1000,10000]\n",
    "\n",
    "bubble_sort_execution_times = [ExecutionTimes10[\"bubble_sort\"],\n",
    "                               ExecutionTimes100[\"bubble_sort\"],\n",
    "                               ExecutionTimes1000[\"bubble_sort\"],\n",
    "                               ExecutionTimes10000[\"bubble_sort\"]]\n",
    "\n",
    "selection_sort_execution_times = [ExecutionTimes10[\"selection_sort\"],\n",
    "                                  ExecutionTimes100[\"selection_sort\"],\n",
    "                                  ExecutionTimes1000[\"selection_sort\"],\n",
    "                                  ExecutionTimes10000[\"selection_sort\"]]\n",
    "\n",
    "insertion_sort_execution_times = [ExecutionTimes10[\"insertion_sort\"],\n",
    "                                  ExecutionTimes100[\"insertion_sort\"],\n",
    "                                  ExecutionTimes1000[\"insertion_sort\"],\n",
    "                                  ExecutionTimes10000[\"insertion_sort\"]]\n",
    "\n",
    "quick_sort_execution_times = [ExecutionTimes10[\"quick_sort\"],\n",
    "                              ExecutionTimes100[\"quick_sort\"],\n",
    "                              ExecutionTimes1000[\"quick_sort\"],\n",
    "                              ExecutionTimes10000[\"quick_sort\"]]\n",
    "\n",
    "merge_sort_execution_times = [ExecutionTimes10[\"merge_sort\"],\n",
    "                              ExecutionTimes100[\"merge_sort\"],\n",
    "                              ExecutionTimes1000[\"merge_sort\"],\n",
    "                              ExecutionTimes10000[\"merge_sort\"]]\n",
    "\n",
    "heap_sort_execution_times = [ExecutionTimes10[\"heap_sort\"],\n",
    "                             ExecutionTimes100[\"heap_sort\"],\n",
    "                             ExecutionTimes1000[\"heap_sort\"],\n",
    "                             ExecutionTimes10000[\"heap_sort\"]]\n",
    "\n",
    "counting_sort_execution_times = [ExecutionTimes10[\"counting_sort\"],\n",
    "                                 ExecutionTimes100[\"counting_sort\"],\n",
    "                                 ExecutionTimes1000[\"counting_sort\"],\n",
    "                                 ExecutionTimes10000[\"counting_sort\"]]\n",
    "\n",
    "radix_sort_execution_times = [ExecutionTimes10[\"radix_sort\"],\n",
    "                              ExecutionTimes100[\"radix_sort\"],\n",
    "                              ExecutionTimes1000[\"radix_sort\"],\n",
    "                              ExecutionTimes10000[\"radix_sort\"]]\n",
    "data = {\n",
    "    'X': x_label,\n",
    "    'Bubble Sort': bubble_sort_execution_times,\n",
    "    'Selection Sort': selection_sort_execution_times,\n",
    "    'Insertion Sort': insertion_sort_execution_times,\n",
    "    'Quick Sort': quick_sort_execution_times,\n",
    "    'Merge Sort': merge_sort_execution_times,\n",
    "    'Heap Sort': heap_sort_execution_times,\n",
    "    'Counting Sort': counting_sort_execution_times,\n",
    "    'Radix Sort': radix_sort_execution_times\n",
    "}\n",
    "\n",
    "df = pd.DataFrame(data)"
   ]
  },
  {
   "cell_type": "markdown",
   "id": "3dd68013",
   "metadata": {},
   "source": [
    "#### Plotting graph "
   ]
  },
  {
   "cell_type": "code",
   "execution_count": 18,
   "id": "2e33620a",
   "metadata": {},
   "outputs": [
    {
     "data": {
      "image/png": "[encoded data removed]",
      "text/plain": [
       "<Figure size 1200x800 with 1 Axes>"
      ]
     },
     "metadata": {},
     "output_type": "display_data"
    }
   ],
   "source": [
    "sns.set(style=\"whitegrid\")\n",
    "\n",
    "plt.figure(figsize=(12, 8))\n",
    "ax = sns.lineplot(data=df.drop('X', axis=1), markers=True, dashes=False)\n",
    "\n",
    "ax.set(xlabel='Input Size (log scale) (X)', ylabel='Execution Time (log scale)(sec)')\n",
    "plt.title('Execution Times for Sorting Algorithms (Logarithmic Scale)')\n",
    "\n",
    "ax.set_yscale('log')\n",
    "\n",
    "plt.legend(title='Algorithms', loc='upper left', bbox_to_anchor=(1, 1))\n",
    "\n",
    "plt.show()"
   ]
  },
  {
   "cell_type": "markdown",
   "id": "2a42fb07",
   "metadata": {},
   "source": [
    "## Results and Conculution"
   ]
  },
  {
   "cell_type": "markdown",
   "id": "6f26725f",
   "metadata": {},
   "source": [
    "As you can see from figure Bubble Sort, Selection Sort, and Insertion Sort demonstrate efficient performance for small dataset sizes. However, their efficiency significantly diminishes as the dataset size grows. Conversely, Radix Sort, Counting Sort, and Heap Sort emerge as the most efficient algorithms as the dataset size increases. This highlights the importance of selecting a sorting algorithm tailored to the specific dataset size. Optimal algorithm choice should be guided by the dataset's size to achieve optimal sorting performance."
   ]
  }
 ],
 "metadata": {
  "kernelspec": {
   "display_name": "Python 3 (ipykernel)",
   "language": "python",
   "name": "python3"
  },
  "language_info": {
   "codemirror_mode": {
    "name": "ipython",
    "version": 3
   },
   "file_extension": ".py",
   "mimetype": "text/x-python",
   "name": "python",
   "nbconvert_exporter": "python",
   "pygments_lexer": "ipython3",
   "version": "3.11.5"
  }
 },
 "nbformat": 4,
 "nbformat_minor": 5
}
